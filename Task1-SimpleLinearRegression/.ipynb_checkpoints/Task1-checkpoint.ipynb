{
 "cells": [
  {
   "cell_type": "code",
   "execution_count": 2,
   "id": "c9aee214",
   "metadata": {
    "ExecuteTime": {
     "end_time": "2022-03-04T22:53:30.355031Z",
     "start_time": "2022-03-04T22:53:28.800764Z"
    }
   },
   "outputs": [],
   "source": [
    "import numpy as np\n",
    "import pandas as pd\n",
    "import matplotlib.pyplot as plt"
   ]
  },
  {
   "cell_type": "markdown",
   "id": "7d7752c9",
   "metadata": {},
   "source": [
    "# Review Our Data \n",
    "My use the data you can find it here:\n",
    "https://raw.githubusercontent.com/AdiPersonalWorks/Random/master/student_scores%20-%20student_scores.csv\n",
    "This data shows the students study ours vs their score\n",
    "I use linear regression to can use to perdict new student "
   ]
  },
  {
   "cell_type": "code",
   "execution_count": 9,
   "id": "ec2f4139",
   "metadata": {
    "ExecuteTime": {
     "end_time": "2022-03-05T00:10:47.386164Z",
     "start_time": "2022-03-05T00:10:47.359231Z"
    },
    "scrolled": true
   },
   "outputs": [],
   "source": [
    "data=[\n",
    "    (2.5,21),(5.1,47),(3.2,27),(8.5,75),(3.5,30),\n",
    "    (1.5,20),(9.2,88),(5.5,60),(8.3,81),(2.7,25),\n",
    "    (7.7,85),(5.9,62),(4.5,41),(3.3,42),(1.1,17),\n",
    "    (8.9,95),(2.5,30),(1.9,24),(6.1,67),(7.4,69),\n",
    "    (2.7,30),(4.8,54),(3.8,35),(6.9,76),(7.8,86)\n",
    "    ]"
   ]
  },
  {
   "cell_type": "markdown",
   "id": "a73f5f3b",
   "metadata": {},
   "source": [
    "Here we split the data into two parts "
   ]
  },
  {
   "cell_type": "code",
   "execution_count": 61,
   "id": "312617d2",
   "metadata": {
    "ExecuteTime": {
     "end_time": "2022-03-05T00:58:18.387132Z",
     "start_time": "2022-03-05T00:58:18.367185Z"
    },
    "scrolled": true
   },
   "outputs": [
    {
     "data": {
      "text/plain": [
       "[2.5,\n",
       " 5.1,\n",
       " 3.2,\n",
       " 8.5,\n",
       " 3.5,\n",
       " 1.5,\n",
       " 9.2,\n",
       " 5.5,\n",
       " 8.3,\n",
       " 2.7,\n",
       " 7.7,\n",
       " 5.9,\n",
       " 4.5,\n",
       " 3.3,\n",
       " 1.1,\n",
       " 8.9,\n",
       " 2.5,\n",
       " 1.9,\n",
       " 6.1,\n",
       " 7.4,\n",
       " 2.7,\n",
       " 4.8,\n",
       " 3.8,\n",
       " 6.9,\n",
       " 7.8]"
      ]
     },
     "execution_count": 61,
     "metadata": {},
     "output_type": "execute_result"
    }
   ],
   "source": [
    "Hours=[i[0] for i in data]\n",
    "Score=[i[1] for i in data]"
   ]
  },
  {
   "cell_type": "markdown",
   "id": "ddffcd36",
   "metadata": {},
   "source": [
    "Plot the data Hours Vs Score"
   ]
  },
  {
   "cell_type": "code",
   "execution_count": 32,
   "id": "119330f0",
   "metadata": {
    "ExecuteTime": {
     "end_time": "2022-03-05T00:24:30.765034Z",
     "start_time": "2022-03-05T00:24:30.523978Z"
    },
    "scrolled": true
   },
   "outputs": [
    {
     "data": {
      "text/plain": [
       "<matplotlib.legend.Legend at 0x161726e69d0>"
      ]
     },
     "execution_count": 32,
     "metadata": {},
     "output_type": "execute_result"
    },
    {
     "data": {
      "image/png": "[encoded data removed]",
      "text/plain": [
       "<Figure size 432x288 with 1 Axes>"
      ]
     },
     "metadata": {
      "needs_background": "light"
     },
     "output_type": "display_data"
    }
   ],
   "source": [
    "plt.scatter(Hours,Score,label=\"HoursVSScore\",marker='o',c='#2ca02c',s=50)\n",
    "plt.xlabel(\"Hours\")\n",
    "plt.ylabel(\"Score\")\n",
    "plt.title(\"Gragh\")\n",
    "plt.legend()"
   ]
  },
  {
   "cell_type": "code",
   "execution_count": 49,
   "id": "7afa6b49",
   "metadata": {
    "ExecuteTime": {
     "end_time": "2022-03-05T00:42:49.575842Z",
     "start_time": "2022-03-05T00:42:49.560882Z"
    }
   },
   "outputs": [
    {
     "data": {
      "text/plain": [
       "array([0.22105263, 0.49473684, 0.28421053, 0.78947368, 0.31578947,\n",
       "       0.21052632, 0.92631579, 0.63157895, 0.85263158, 0.26315789,\n",
       "       0.89473684, 0.65263158, 0.43157895, 0.44210526, 0.17894737,\n",
       "       1.        , 0.31578947, 0.25263158, 0.70526316, 0.72631579,\n",
       "       0.31578947, 0.56842105, 0.36842105, 0.8       , 0.90526316])"
      ]
     },
     "execution_count": 49,
     "metadata": {},
     "output_type": "execute_result"
    }
   ],
   "source": [
    "score_for_Hist=np.array(Score)\n",
    "score_for_Hist=score_for_Hist/score_for_Hist.max()"
   ]
  },
  {
   "cell_type": "code",
   "execution_count": 53,
   "id": "630af95d",
   "metadata": {
    "ExecuteTime": {
     "end_time": "2022-03-05T00:43:50.627597Z",
     "start_time": "2022-03-05T00:43:50.605601Z"
    }
   },
   "outputs": [
    {
     "data": {
      "text/plain": [
       "array([0.27173913, 0.55434783, 0.34782609, 0.92391304, 0.38043478,\n",
       "       0.16304348, 1.        , 0.59782609, 0.90217391, 0.29347826,\n",
       "       0.83695652, 0.64130435, 0.48913043, 0.35869565, 0.11956522,\n",
       "       0.9673913 , 0.27173913, 0.20652174, 0.66304348, 0.80434783,\n",
       "       0.29347826, 0.52173913, 0.41304348, 0.75      , 0.84782609])"
      ]
     },
     "execution_count": 53,
     "metadata": {},
     "output_type": "execute_result"
    }
   ],
   "source": [
    "Hours_for_Hist=np.array(Hours)\n",
    "Hours_for_Hist/=Hours_for_Hist.max()"
   ]
  },
  {
   "cell_type": "code",
   "execution_count": 56,
   "id": "49f85155",
   "metadata": {
    "ExecuteTime": {
     "end_time": "2022-03-05T00:45:14.367150Z",
     "start_time": "2022-03-05T00:45:14.248060Z"
    }
   },
   "outputs": [
    {
     "data": {
      "text/plain": [
       "(array([3., 4., 3., 1., 3., 2., 1., 2., 3., 3.]),\n",
       " array([0.11956522, 0.2076087 , 0.29565217, 0.38369565, 0.47173913,\n",
       "        0.55978261, 0.64782609, 0.73586957, 0.82391304, 0.91195652,\n",
       "        1.        ]),\n",
       " <BarContainer object of 10 artists>)"
      ]
     },
     "execution_count": 56,
     "metadata": {},
     "output_type": "execute_result"
    },
    {
     "data": {
      "image/png": "[encoded data removed]",
      "text/plain": [
       "<Figure size 432x288 with 1 Axes>"
      ]
     },
     "metadata": {
      "needs_background": "light"
     },
     "output_type": "display_data"
    }
   ],
   "source": [
    "fig1=plt.figure()\n",
    "plt.hist(Hours_for_Hist,color='#2ca02c',label=\"Hours\")"
   ]
  },
  {
   "cell_type": "code",
   "execution_count": 55,
   "id": "6f06997f",
   "metadata": {
    "ExecuteTime": {
     "end_time": "2022-03-05T00:45:11.924383Z",
     "start_time": "2022-03-05T00:45:11.708967Z"
    }
   },
   "outputs": [
    {
     "data": {
      "text/plain": [
       "(array([4., 5., 1., 3., 1., 2., 2., 2., 3., 2.]),\n",
       " array([0.17894737, 0.26105263, 0.34315789, 0.42526316, 0.50736842,\n",
       "        0.58947368, 0.67157895, 0.75368421, 0.83578947, 0.91789474,\n",
       "        1.        ]),\n",
       " <BarContainer object of 10 artists>)"
      ]
     },
     "execution_count": 55,
     "metadata": {},
     "output_type": "execute_result"
    },
    {
     "data": {
      "image/png": "[encoded data removed]",
      "text/plain": [
       "<Figure size 432x288 with 1 Axes>"
      ]
     },
     "metadata": {
      "needs_background": "light"
     },
     "output_type": "display_data"
    }
   ],
   "source": [
    "fig2=plt.figure()\n",
    "plt.hist(score_for_Hist,color='#2ca02c',label=\"Score\")"
   ]
  },
  {
   "attachments": {},
   "cell_type": "markdown",
   "id": "501fa6b5",
   "metadata": {},
   "source": [
    "# Method-1 (Normal Equation)"
   ]
  },
  {
   "cell_type": "code",
   "execution_count": 74,
   "id": "4c97a42c",
   "metadata": {
    "ExecuteTime": {
     "end_time": "2022-03-05T01:10:45.297864Z",
     "start_time": "2022-03-05T01:10:37.193430Z"
    }
   },
   "outputs": [],
   "source": [
    "from sklearn.model_selection import train_test_split  \n",
    "X_train, X_test, y_train, y_test = train_test_split(Hours, Score, test_size=0.2, random_state=0) "
   ]
  },
  {
   "cell_type": "code",
   "execution_count": 135,
   "id": "fb716238",
   "metadata": {
    "ExecuteTime": {
     "end_time": "2022-03-05T01:34:52.244424Z",
     "start_time": "2022-03-05T01:34:52.234455Z"
    }
   },
   "outputs": [
    {
     "data": {
      "text/plain": [
       "array([[2.01816004],\n",
       "       [9.91065648]])"
      ]
     },
     "execution_count": 135,
     "metadata": {},
     "output_type": "execute_result"
    }
   ],
   "source": [
    "Hours_train=np.array(X_train)\n",
    "Score_train=np.array(y_train)\n",
    "new_Hours_1=np.c_[np.ones((len(Hours_train),1)),Hours_train]\n",
    "new_Score_1=Score_train.reshape(-1,1)\n",
    "thetas=np.linalg.inv((new_Hours_1.T.dot(new_Hours_1))).dot(new_Hours_1.T).dot(new_Score_1)\n",
    "thetas"
   ]
  },
  {
   "cell_type": "code",
   "execution_count": 142,
   "id": "f9ba8e73",
   "metadata": {
    "ExecuteTime": {
     "end_time": "2022-03-05T01:36:02.079609Z",
     "start_time": "2022-03-05T01:36:02.060661Z"
    }
   },
   "outputs": [
    {
     "name": "stdout",
     "output_type": "stream",
     "text": [
      "Accuracy=98.95%\n"
     ]
    }
   ],
   "source": [
    "Hours_test=np.array(X_test)\n",
    "Score_test=np.array(y_test)\n",
    "Hours_test=np.c_[np.ones((len(Hours_test),1)),Hours_test]\n",
    "ypredict=Hours_test.dot(thetas)\n",
    "ypredict=np.array([i[0] for i in ypredict])\n",
    "print(f\"Accuracy={round(100-sum(ypredict-Score_test)/len(ypredict-Score_test),2)}%\")"
   ]
  },
  {
   "cell_type": "code",
   "execution_count": 144,
   "id": "504d0cf4",
   "metadata": {
    "ExecuteTime": {
     "end_time": "2022-03-05T01:36:23.362988Z",
     "start_time": "2022-03-05T01:36:23.170495Z"
    }
   },
   "outputs": [
    {
     "data": {
      "text/plain": [
       "[<matplotlib.lines.Line2D at 0x16109d9a4f0>]"
      ]
     },
     "execution_count": 144,
     "metadata": {},
     "output_type": "execute_result"
    },
    {
     "data": {
      "image/png": "[encoded data removed]",
      "text/plain": [
       "<Figure size 432x288 with 1 Axes>"
      ]
     },
     "metadata": {
      "needs_background": "light"
     },
     "output_type": "display_data"
    }
   ],
   "source": [
    "plt.scatter(X_train,y_train,c='#2ca02c')\n",
    "plt.plot(X_test, ypredict,'r')"
   ]
  },
  {
   "cell_type": "code",
   "execution_count": null,
   "id": "34878ffe",
   "metadata": {},
   "outputs": [],
   "source": []
  }
 ],
 "metadata": {
  "kernelspec": {
   "display_name": "Python 3 (ipykernel)",
   "language": "python",
   "name": "python3"
  },
  "language_info": {
   "codemirror_mode": {
    "name": "ipython",
    "version": 3
   },
   "file_extension": ".py",
   "mimetype": "text/x-python",
   "name": "python",
   "nbconvert_exporter": "python",
   "pygments_lexer": "ipython3",
   "version": "3.9.7"
  }
 },
 "nbformat": 4,
 "nbformat_minor": 5
}
