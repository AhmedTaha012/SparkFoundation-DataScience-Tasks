{
 "cells": [
  {
   "cell_type": "markdown",
   "id": "73d23e9c",
   "metadata": {},
   "source": [
    "#### Ahmed Taha \n",
    "#### 5/4/2022\n",
    "#### Hi,This is Implementaion for Simple Linear Regression Task \n",
    "#### Here i used Sklearn and Normal Equation to get the perfect fit line for our data \n",
    "#### The data i used here is contains data for students studing Hours vs There Scores \n",
    "#### The implementation shows the graphs Visualization so you can understand well the data \n",
    "#### Down you can find one perdiction for if student study 9.25 hrs/day how much score he will get "
   ]
  },
  {
   "cell_type": "code",
   "execution_count": 2,
   "id": "c9aee214",
   "metadata": {
    "ExecuteTime": {
     "end_time": "2022-03-05T19:29:59.182714Z",
     "start_time": "2022-03-05T19:29:48.562593Z"
    }
   },
   "outputs": [],
   "source": [
    "import numpy as np\n",
    "import pandas as pd\n",
    "import matplotlib.pyplot as plt"
   ]
  },
  {
   "cell_type": "markdown",
   "id": "7d7752c9",
   "metadata": {},
   "source": [
    "#  Review Our Data \n",
    "My use the data you can find it here:\n",
    "https://raw.githubusercontent.com/AdiPersonalWorks/Random/master/student_scores%20-%20student_scores.csv\n",
    "This data shows the students study ours vs their score\n",
    "I use linear regression to can use to perdict new student "
   ]
  },
  {
   "cell_type": "code",
   "execution_count": 4,
   "id": "ec2f4139",
   "metadata": {
    "ExecuteTime": {
     "end_time": "2022-03-05T19:30:04.689484Z",
     "start_time": "2022-03-05T19:30:03.495128Z"
    },
    "scrolled": false
   },
   "outputs": [
    {
     "data": {
      "text/html": [
       "<div>\n",
       "<style scoped>\n",
       "    .dataframe tbody tr th:only-of-type {\n",
       "        vertical-align: middle;\n",
       "    }\n",
       "\n",
       "    .dataframe tbody tr th {\n",
       "        vertical-align: top;\n",
       "    }\n",
       "\n",
       "    .dataframe thead th {\n",
       "        text-align: right;\n",
       "    }\n",
       "</style>\n",
       "<table border=\"1\" class=\"dataframe\">\n",
       "  <thead>\n",
       "    <tr style=\"text-align: right;\">\n",
       "      <th></th>\n",
       "      <th>Hours</th>\n",
       "      <th>Scores</th>\n",
       "    </tr>\n",
       "  </thead>\n",
       "  <tbody>\n",
       "    <tr>\n",
       "      <th>0</th>\n",
       "      <td>2.5</td>\n",
       "      <td>21</td>\n",
       "    </tr>\n",
       "    <tr>\n",
       "      <th>1</th>\n",
       "      <td>5.1</td>\n",
       "      <td>47</td>\n",
       "    </tr>\n",
       "    <tr>\n",
       "      <th>2</th>\n",
       "      <td>3.2</td>\n",
       "      <td>27</td>\n",
       "    </tr>\n",
       "    <tr>\n",
       "      <th>3</th>\n",
       "      <td>8.5</td>\n",
       "      <td>75</td>\n",
       "    </tr>\n",
       "    <tr>\n",
       "      <th>4</th>\n",
       "      <td>3.5</td>\n",
       "      <td>30</td>\n",
       "    </tr>\n",
       "    <tr>\n",
       "      <th>5</th>\n",
       "      <td>1.5</td>\n",
       "      <td>20</td>\n",
       "    </tr>\n",
       "    <tr>\n",
       "      <th>6</th>\n",
       "      <td>9.2</td>\n",
       "      <td>88</td>\n",
       "    </tr>\n",
       "    <tr>\n",
       "      <th>7</th>\n",
       "      <td>5.5</td>\n",
       "      <td>60</td>\n",
       "    </tr>\n",
       "    <tr>\n",
       "      <th>8</th>\n",
       "      <td>8.3</td>\n",
       "      <td>81</td>\n",
       "    </tr>\n",
       "    <tr>\n",
       "      <th>9</th>\n",
       "      <td>2.7</td>\n",
       "      <td>25</td>\n",
       "    </tr>\n",
       "    <tr>\n",
       "      <th>10</th>\n",
       "      <td>7.7</td>\n",
       "      <td>85</td>\n",
       "    </tr>\n",
       "    <tr>\n",
       "      <th>11</th>\n",
       "      <td>5.9</td>\n",
       "      <td>62</td>\n",
       "    </tr>\n",
       "    <tr>\n",
       "      <th>12</th>\n",
       "      <td>4.5</td>\n",
       "      <td>41</td>\n",
       "    </tr>\n",
       "    <tr>\n",
       "      <th>13</th>\n",
       "      <td>3.3</td>\n",
       "      <td>42</td>\n",
       "    </tr>\n",
       "    <tr>\n",
       "      <th>14</th>\n",
       "      <td>1.1</td>\n",
       "      <td>17</td>\n",
       "    </tr>\n",
       "    <tr>\n",
       "      <th>15</th>\n",
       "      <td>8.9</td>\n",
       "      <td>95</td>\n",
       "    </tr>\n",
       "    <tr>\n",
       "      <th>16</th>\n",
       "      <td>2.5</td>\n",
       "      <td>30</td>\n",
       "    </tr>\n",
       "    <tr>\n",
       "      <th>17</th>\n",
       "      <td>1.9</td>\n",
       "      <td>24</td>\n",
       "    </tr>\n",
       "    <tr>\n",
       "      <th>18</th>\n",
       "      <td>6.1</td>\n",
       "      <td>67</td>\n",
       "    </tr>\n",
       "    <tr>\n",
       "      <th>19</th>\n",
       "      <td>7.4</td>\n",
       "      <td>69</td>\n",
       "    </tr>\n",
       "    <tr>\n",
       "      <th>20</th>\n",
       "      <td>2.7</td>\n",
       "      <td>30</td>\n",
       "    </tr>\n",
       "    <tr>\n",
       "      <th>21</th>\n",
       "      <td>4.8</td>\n",
       "      <td>54</td>\n",
       "    </tr>\n",
       "    <tr>\n",
       "      <th>22</th>\n",
       "      <td>3.8</td>\n",
       "      <td>35</td>\n",
       "    </tr>\n",
       "    <tr>\n",
       "      <th>23</th>\n",
       "      <td>6.9</td>\n",
       "      <td>76</td>\n",
       "    </tr>\n",
       "    <tr>\n",
       "      <th>24</th>\n",
       "      <td>7.8</td>\n",
       "      <td>86</td>\n",
       "    </tr>\n",
       "  </tbody>\n",
       "</table>\n",
       "</div>"
      ],
      "text/plain": [
       "    Hours  Scores\n",
       "0     2.5      21\n",
       "1     5.1      47\n",
       "2     3.2      27\n",
       "3     8.5      75\n",
       "4     3.5      30\n",
       "5     1.5      20\n",
       "6     9.2      88\n",
       "7     5.5      60\n",
       "8     8.3      81\n",
       "9     2.7      25\n",
       "10    7.7      85\n",
       "11    5.9      62\n",
       "12    4.5      41\n",
       "13    3.3      42\n",
       "14    1.1      17\n",
       "15    8.9      95\n",
       "16    2.5      30\n",
       "17    1.9      24\n",
       "18    6.1      67\n",
       "19    7.4      69\n",
       "20    2.7      30\n",
       "21    4.8      54\n",
       "22    3.8      35\n",
       "23    6.9      76\n",
       "24    7.8      86"
      ]
     },
     "execution_count": 4,
     "metadata": {},
     "output_type": "execute_result"
    }
   ],
   "source": [
    "data=pd.read_csv(\"https://raw.githubusercontent.com/AdiPersonalWorks/Random/master/student_scores%20-%20student_scores.csv\")\n",
    "data"
   ]
  },
  {
   "cell_type": "markdown",
   "id": "daaf136b",
   "metadata": {},
   "source": [
    "### Shows the data shape"
   ]
  },
  {
   "cell_type": "code",
   "execution_count": 23,
   "id": "add0b0fc",
   "metadata": {
    "ExecuteTime": {
     "end_time": "2022-03-05T19:51:19.113479Z",
     "start_time": "2022-03-05T19:51:19.078277Z"
    }
   },
   "outputs": [
    {
     "data": {
      "text/plain": [
       "(25, 2)"
      ]
     },
     "execution_count": 23,
     "metadata": {},
     "output_type": "execute_result"
    }
   ],
   "source": [
    "data.shape"
   ]
  },
  {
   "cell_type": "markdown",
   "id": "a73f5f3b",
   "metadata": {},
   "source": [
    "### Here we split the data into two parts "
   ]
  },
  {
   "cell_type": "code",
   "execution_count": 5,
   "id": "312617d2",
   "metadata": {
    "ExecuteTime": {
     "end_time": "2022-03-05T19:33:04.870585Z",
     "start_time": "2022-03-05T19:33:04.845611Z"
    },
    "scrolled": true
   },
   "outputs": [],
   "source": [
    "Hours=data.iloc[:,0]\n",
    "Score=data.iloc[:,1]"
   ]
  },
  {
   "cell_type": "markdown",
   "id": "faedbaae",
   "metadata": {},
   "source": [
    "### Shows Students Studing Hours only"
   ]
  },
  {
   "cell_type": "code",
   "execution_count": 6,
   "id": "a3352826",
   "metadata": {
    "ExecuteTime": {
     "end_time": "2022-03-05T19:33:45.681622Z",
     "start_time": "2022-03-05T19:33:45.654647Z"
    },
    "scrolled": false
   },
   "outputs": [
    {
     "data": {
      "text/plain": [
       "0     2.5\n",
       "1     5.1\n",
       "2     3.2\n",
       "3     8.5\n",
       "4     3.5\n",
       "5     1.5\n",
       "6     9.2\n",
       "7     5.5\n",
       "8     8.3\n",
       "9     2.7\n",
       "10    7.7\n",
       "11    5.9\n",
       "12    4.5\n",
       "13    3.3\n",
       "14    1.1\n",
       "15    8.9\n",
       "16    2.5\n",
       "17    1.9\n",
       "18    6.1\n",
       "19    7.4\n",
       "20    2.7\n",
       "21    4.8\n",
       "22    3.8\n",
       "23    6.9\n",
       "24    7.8\n",
       "Name: Hours, dtype: float64"
      ]
     },
     "execution_count": 6,
     "metadata": {},
     "output_type": "execute_result"
    }
   ],
   "source": [
    "Hours"
   ]
  },
  {
   "cell_type": "markdown",
   "id": "b541f989",
   "metadata": {},
   "source": [
    "### Shows Students Scores"
   ]
  },
  {
   "cell_type": "code",
   "execution_count": 9,
   "id": "5e88abc7",
   "metadata": {
    "ExecuteTime": {
     "end_time": "2022-03-05T19:38:29.010052Z",
     "start_time": "2022-03-05T19:38:28.989110Z"
    },
    "scrolled": true
   },
   "outputs": [
    {
     "data": {
      "text/plain": [
       "0     21\n",
       "1     47\n",
       "2     27\n",
       "3     75\n",
       "4     30\n",
       "5     20\n",
       "6     88\n",
       "7     60\n",
       "8     81\n",
       "9     25\n",
       "10    85\n",
       "11    62\n",
       "12    41\n",
       "13    42\n",
       "14    17\n",
       "15    95\n",
       "16    30\n",
       "17    24\n",
       "18    67\n",
       "19    69\n",
       "20    30\n",
       "21    54\n",
       "22    35\n",
       "23    76\n",
       "24    86\n",
       "Name: Scores, dtype: int64"
      ]
     },
     "execution_count": 9,
     "metadata": {},
     "output_type": "execute_result"
    }
   ],
   "source": [
    "Score"
   ]
  },
  {
   "cell_type": "markdown",
   "id": "30b06e02",
   "metadata": {},
   "source": [
    "# Visualization of the Data"
   ]
  },
  {
   "cell_type": "markdown",
   "id": "ddffcd36",
   "metadata": {},
   "source": [
    "### Plot the data Hours Vs Score "
   ]
  },
  {
   "cell_type": "code",
   "execution_count": 8,
   "id": "119330f0",
   "metadata": {
    "ExecuteTime": {
     "end_time": "2022-03-05T19:37:25.156393Z",
     "start_time": "2022-03-05T19:37:23.474919Z"
    },
    "scrolled": false
   },
   "outputs": [
    {
     "data": {
      "text/plain": [
       "<matplotlib.legend.Legend at 0x2592237be50>"
      ]
     },
     "execution_count": 8,
     "metadata": {},
     "output_type": "execute_result"
    },
    {
     "data": {
      "image/png": "[encoded data removed]",
      "text/plain": [
       "<Figure size 432x288 with 1 Axes>"
      ]
     },
     "metadata": {
      "needs_background": "light"
     },
     "output_type": "display_data"
    }
   ],
   "source": [
    "plt.scatter(Hours,Score,label=\"HoursVSScore\",marker='o',c='r',s=50)\n",
    "plt.xlabel(\"Hours\")\n",
    "plt.ylabel(\"Score\")\n",
    "plt.title(\"Gragh\")\n",
    "plt.legend()"
   ]
  },
  {
   "cell_type": "markdown",
   "id": "7ffeb9f2",
   "metadata": {},
   "source": [
    "### Shows the histogram of the students Hours to can analysis the data "
   ]
  },
  {
   "cell_type": "code",
   "execution_count": 15,
   "id": "49f85155",
   "metadata": {
    "ExecuteTime": {
     "end_time": "2022-03-05T19:42:49.810612Z",
     "start_time": "2022-03-05T19:42:49.181543Z"
    },
    "scrolled": false
   },
   "outputs": [
    {
     "data": {
      "text/plain": [
       "(array([3., 4., 3., 1., 3., 2., 1., 2., 3., 3.]),\n",
       " array([1.1 , 1.91, 2.72, 3.53, 4.34, 5.15, 5.96, 6.77, 7.58, 8.39, 9.2 ]),\n",
       " <BarContainer object of 10 artists>)"
      ]
     },
     "execution_count": 15,
     "metadata": {},
     "output_type": "execute_result"
    },
    {
     "data": {
      "image/png": "[encoded data removed]",
      "text/plain": [
       "<Figure size 432x288 with 1 Axes>"
      ]
     },
     "metadata": {
      "needs_background": "light"
     },
     "output_type": "display_data"
    }
   ],
   "source": [
    "fig1=plt.figure()\n",
    "plt.hist(Hours,color='b',label=\"Hours\")"
   ]
  },
  {
   "cell_type": "markdown",
   "id": "49a87fdd",
   "metadata": {},
   "source": [
    "### Shows the histogram of the students scores to can analysis the data "
   ]
  },
  {
   "cell_type": "code",
   "execution_count": 17,
   "id": "6f06997f",
   "metadata": {
    "ExecuteTime": {
     "end_time": "2022-03-05T19:43:11.276976Z",
     "start_time": "2022-03-05T19:43:10.662789Z"
    }
   },
   "outputs": [
    {
     "data": {
      "text/plain": [
       "(array([4., 5., 1., 3., 1., 2., 2., 2., 3., 2.]),\n",
       " array([17. , 24.8, 32.6, 40.4, 48.2, 56. , 63.8, 71.6, 79.4, 87.2, 95. ]),\n",
       " <BarContainer object of 10 artists>)"
      ]
     },
     "execution_count": 17,
     "metadata": {},
     "output_type": "execute_result"
    },
    {
     "data": {
      "image/png": "[encoded data removed]",
      "text/plain": [
       "<Figure size 432x288 with 1 Axes>"
      ]
     },
     "metadata": {
      "needs_background": "light"
     },
     "output_type": "display_data"
    }
   ],
   "source": [
    "fig2=plt.figure()\n",
    "plt.hist(Score,color='r',label=\"Score\")"
   ]
  },
  {
   "cell_type": "markdown",
   "id": "501fa6b5",
   "metadata": {},
   "source": [
    "# Method-1 (Normal Equation)"
   ]
  },
  {
   "cell_type": "markdown",
   "id": "4e7863fe",
   "metadata": {},
   "source": [
    "### Spliting Data to train and test 20% test and 80% train"
   ]
  },
  {
   "cell_type": "code",
   "execution_count": 50,
   "id": "4c97a42c",
   "metadata": {
    "ExecuteTime": {
     "end_time": "2022-03-05T20:19:28.926729Z",
     "start_time": "2022-03-05T20:19:28.901799Z"
    }
   },
   "outputs": [],
   "source": [
    "from sklearn.model_selection import train_test_split  \n",
    "X_train, X_test, y_train, y_test = train_test_split(Hours, Score, test_size=0.2, random_state=0) "
   ]
  },
  {
   "cell_type": "markdown",
   "id": "427aac8e",
   "metadata": {},
   "source": [
    "### Convert train data to matrix to can perform the normal equation "
   ]
  },
  {
   "cell_type": "code",
   "execution_count": 55,
   "id": "09aef182",
   "metadata": {
    "ExecuteTime": {
     "end_time": "2022-03-05T20:21:13.266103Z",
     "start_time": "2022-03-05T20:21:13.249148Z"
    }
   },
   "outputs": [
    {
     "data": {
      "text/plain": [
       "array([3.8, 1.9, 7.8, 6.9, 1.1, 5.1, 7.7, 3.3, 8.3, 9.2, 6.1, 3.5, 2.7,\n",
       "       5.5, 2.7, 8.5, 2.5, 4.8, 8.9, 4.5])"
      ]
     },
     "execution_count": 55,
     "metadata": {},
     "output_type": "execute_result"
    }
   ],
   "source": [
    "Hours_train=np.array(X_train)\n",
    "Score_train=np.array(y_train)"
   ]
  },
  {
   "cell_type": "markdown",
   "id": "e8be28ec",
   "metadata": {},
   "source": [
    "### Adding coloums of ones to x data to set x0=1 for all "
   ]
  },
  {
   "cell_type": "code",
   "execution_count": 57,
   "id": "b586750c",
   "metadata": {
    "ExecuteTime": {
     "end_time": "2022-03-05T20:21:32.503968Z",
     "start_time": "2022-03-05T20:21:32.485958Z"
    },
    "scrolled": false
   },
   "outputs": [
    {
     "data": {
      "text/plain": [
       "array([[1. , 3.8],\n",
       "       [1. , 1.9],\n",
       "       [1. , 7.8],\n",
       "       [1. , 6.9],\n",
       "       [1. , 1.1],\n",
       "       [1. , 5.1],\n",
       "       [1. , 7.7],\n",
       "       [1. , 3.3],\n",
       "       [1. , 8.3],\n",
       "       [1. , 9.2],\n",
       "       [1. , 6.1],\n",
       "       [1. , 3.5],\n",
       "       [1. , 2.7],\n",
       "       [1. , 5.5],\n",
       "       [1. , 2.7],\n",
       "       [1. , 8.5],\n",
       "       [1. , 2.5],\n",
       "       [1. , 4.8],\n",
       "       [1. , 8.9],\n",
       "       [1. , 4.5]])"
      ]
     },
     "execution_count": 57,
     "metadata": {},
     "output_type": "execute_result"
    }
   ],
   "source": [
    "Hours_train=np.c_[np.ones((len(Hours_train),1)),Hours_train]\n",
    "Hours_train"
   ]
  },
  {
   "cell_type": "markdown",
   "id": "66d4fe6f",
   "metadata": {},
   "source": [
    "### Reshape Y since it's shape is (20,) to (20,1) to can multiply the matrix"
   ]
  },
  {
   "cell_type": "code",
   "execution_count": 59,
   "id": "2b6e34e1",
   "metadata": {
    "ExecuteTime": {
     "end_time": "2022-03-05T20:22:14.356048Z",
     "start_time": "2022-03-05T20:22:14.335070Z"
    }
   },
   "outputs": [
    {
     "data": {
      "text/plain": [
       "(20, 1)"
      ]
     },
     "execution_count": 59,
     "metadata": {},
     "output_type": "execute_result"
    }
   ],
   "source": [
    "Score_train.shape ##before reshape"
   ]
  },
  {
   "cell_type": "code",
   "execution_count": 60,
   "id": "4556fa07",
   "metadata": {
    "ExecuteTime": {
     "end_time": "2022-03-05T20:22:16.845698Z",
     "start_time": "2022-03-05T20:22:16.825753Z"
    },
    "scrolled": true
   },
   "outputs": [
    {
     "data": {
      "text/plain": [
       "(20, 1)"
      ]
     },
     "execution_count": 60,
     "metadata": {},
     "output_type": "execute_result"
    }
   ],
   "source": [
    "Score_train=Score_train.reshape(-1,1)  ##after reshape\n",
    "Score_train.shape"
   ]
  },
  {
   "cell_type": "markdown",
   "id": "894334aa",
   "metadata": {},
   "source": [
    "### Now will implement the normal equation after setup everything"
   ]
  },
  {
   "cell_type": "code",
   "execution_count": 61,
   "id": "fb716238",
   "metadata": {
    "ExecuteTime": {
     "end_time": "2022-03-05T20:22:18.770404Z",
     "start_time": "2022-03-05T20:22:18.762429Z"
    }
   },
   "outputs": [],
   "source": [
    "thetas=np.linalg.inv((Hours_train.T.dot(new_Hours_1))).dot(Hours_train.T).dot(Score_train)"
   ]
  },
  {
   "cell_type": "markdown",
   "id": "e5241e17",
   "metadata": {},
   "source": [
    "### So our thetas is"
   ]
  },
  {
   "cell_type": "code",
   "execution_count": 62,
   "id": "ede26833",
   "metadata": {
    "ExecuteTime": {
     "end_time": "2022-03-05T20:22:22.081354Z",
     "start_time": "2022-03-05T20:22:22.063349Z"
    },
    "scrolled": true
   },
   "outputs": [
    {
     "data": {
      "text/plain": [
       "array([[2.01816004],\n",
       "       [9.91065648]])"
      ]
     },
     "execution_count": 62,
     "metadata": {},
     "output_type": "execute_result"
    }
   ],
   "source": [
    "thetas"
   ]
  },
  {
   "cell_type": "markdown",
   "id": "a1c5bdd4",
   "metadata": {},
   "source": [
    "### Calculate the accuracy "
   ]
  },
  {
   "cell_type": "code",
   "execution_count": 72,
   "id": "41dc19b4",
   "metadata": {
    "ExecuteTime": {
     "end_time": "2022-03-05T20:24:46.679047Z",
     "start_time": "2022-03-05T20:24:46.663095Z"
    }
   },
   "outputs": [],
   "source": [
    "Hours_test=np.array(X_test)\n",
    "Score_test=np.array(y_test)"
   ]
  },
  {
   "cell_type": "code",
   "execution_count": 73,
   "id": "f9ba8e73",
   "metadata": {
    "ExecuteTime": {
     "end_time": "2022-03-05T20:24:55.987989Z",
     "start_time": "2022-03-05T20:24:55.966051Z"
    }
   },
   "outputs": [],
   "source": [
    "Hours_test=np.c_[np.ones((len(Hours_test),1)),Hours_test]\n",
    "ypredict=Hours_test.dot(thetas)\n",
    "ypredict=np.array([i[0] for i in ypredict])"
   ]
  },
  {
   "cell_type": "markdown",
   "id": "fb63f538",
   "metadata": {},
   "source": [
    "### The predicted y for test data is"
   ]
  },
  {
   "cell_type": "code",
   "execution_count": 87,
   "id": "a53bc431",
   "metadata": {
    "ExecuteTime": {
     "end_time": "2022-03-05T20:28:59.041819Z",
     "start_time": "2022-03-05T20:28:59.031843Z"
    },
    "scrolled": true
   },
   "outputs": [
    {
     "name": "stdout",
     "output_type": "stream",
     "text": [
      "The predicted y for Test data is:[16.88414476 33.73226078 75.357018   26.79480124 60.49103328]\n",
      " while the y of test data is:[20, 27, 69, 30, 62]\n"
     ]
    }
   ],
   "source": [
    "print(f\"The predicted y for Test data is:{ypredict}\\n while the y of test data is:{list(y_test)}\")"
   ]
  },
  {
   "cell_type": "markdown",
   "id": "2b30ff1d",
   "metadata": {},
   "source": [
    "### Accuracy is :"
   ]
  },
  {
   "cell_type": "code",
   "execution_count": 74,
   "id": "4a572693",
   "metadata": {
    "ExecuteTime": {
     "end_time": "2022-03-05T20:25:04.632107Z",
     "start_time": "2022-03-05T20:25:04.611161Z"
    }
   },
   "outputs": [
    {
     "name": "stdout",
     "output_type": "stream",
     "text": [
      "Accuracy=98.95%\n"
     ]
    }
   ],
   "source": [
    "print(f\"Accuracy={round(100-sum(ypredict-Score_test)/len(ypredict-Score_test),2)}%\")"
   ]
  },
  {
   "cell_type": "markdown",
   "id": "e7765a52",
   "metadata": {},
   "source": [
    "### Here can get how much score for the student who study 9.25 hrs/day"
   ]
  },
  {
   "cell_type": "code",
   "execution_count": 41,
   "id": "06e373a2",
   "metadata": {
    "ExecuteTime": {
     "end_time": "2022-03-05T20:13:00.447909Z",
     "start_time": "2022-03-05T20:13:00.409145Z"
    }
   },
   "outputs": [
    {
     "data": {
      "text/plain": [
       "array([[93.69173249]])"
      ]
     },
     "execution_count": 41,
     "metadata": {},
     "output_type": "execute_result"
    }
   ],
   "source": [
    "try_x=np.array([1,9.25])\n",
    "try_x=try_x.reshape(-1,1)\n",
    "res=thetas.T.dot(try_x)\n",
    "res"
   ]
  },
  {
   "cell_type": "markdown",
   "id": "123c80a6",
   "metadata": {},
   "source": [
    "### Now plot our fit line"
   ]
  },
  {
   "cell_type": "code",
   "execution_count": 100,
   "id": "504d0cf4",
   "metadata": {
    "ExecuteTime": {
     "end_time": "2022-03-05T21:01:47.002750Z",
     "start_time": "2022-03-05T21:01:46.881966Z"
    }
   },
   "outputs": [
    {
     "data": {
      "text/plain": [
       "[<matplotlib.lines.Line2D at 0x2593ca2f9d0>]"
      ]
     },
     "execution_count": 100,
     "metadata": {},
     "output_type": "execute_result"
    },
    {
     "data": {
      "image/png": "[encoded data removed]",
      "text/plain": [
       "<Figure size 432x288 with 1 Axes>"
      ]
     },
     "metadata": {
      "needs_background": "light"
     },
     "output_type": "display_data"
    }
   ],
   "source": [
    "new_Hours=np.c_[np.ones((len(Hours),1)),Hours]\n",
    "ypredict_for_train=new_Hours.dot(thetas)\n",
    "plt.scatter(Hours,Score,c='#2ca02c')\n",
    "plt.plot(Hours, ypredict_for_train,'r')"
   ]
  },
  {
   "cell_type": "markdown",
   "id": "571c096d",
   "metadata": {},
   "source": [
    "# Method-2 (linear regression using Scikit-Learn)"
   ]
  },
  {
   "cell_type": "markdown",
   "id": "2ba9694a",
   "metadata": {},
   "source": [
    "## Modules"
   ]
  },
  {
   "cell_type": "code",
   "execution_count": 144,
   "id": "a627c962",
   "metadata": {
    "ExecuteTime": {
     "end_time": "2022-03-05T21:32:40.833275Z",
     "start_time": "2022-03-05T21:32:40.815327Z"
    }
   },
   "outputs": [],
   "source": [
    "from sklearn.linear_model import LinearRegression\n",
    "from sklearn import metrics"
   ]
  },
  {
   "cell_type": "code",
   "execution_count": 91,
   "id": "cc258f9d",
   "metadata": {
    "ExecuteTime": {
     "end_time": "2022-03-05T20:41:55.625528Z",
     "start_time": "2022-03-05T20:41:55.614561Z"
    }
   },
   "outputs": [],
   "source": [
    "Reg=LinearRegression()"
   ]
  },
  {
   "cell_type": "markdown",
   "id": "46a87a2a",
   "metadata": {},
   "source": [
    "### Let's Plot the data again "
   ]
  },
  {
   "cell_type": "code",
   "execution_count": 97,
   "id": "4dfb0d8f",
   "metadata": {
    "ExecuteTime": {
     "end_time": "2022-03-05T20:57:33.163659Z",
     "start_time": "2022-03-05T20:57:33.029023Z"
    },
    "scrolled": true
   },
   "outputs": [
    {
     "data": {
      "text/plain": [
       "<matplotlib.legend.Legend at 0x2593c7475e0>"
      ]
     },
     "execution_count": 97,
     "metadata": {},
     "output_type": "execute_result"
    },
    {
     "data": {
      "image/png": "[encoded data removed]",
      "text/plain": [
       "<Figure size 432x288 with 1 Axes>"
      ]
     },
     "metadata": {
      "needs_background": "light"
     },
     "output_type": "display_data"
    }
   ],
   "source": [
    "figure1=plt.figure()\n",
    "plt.scatter(Hours,,c='g',label=\"HoursVSScore\",marker='+')\n",
    "plt.xlabel(\"Hours\")\n",
    "plt.ylabel(\"Score\")\n",
    "plt.legend()"
   ]
  },
  {
   "cell_type": "markdown",
   "id": "f8087b2d",
   "metadata": {},
   "source": [
    "### Modify the train data to can fit them using sklearn"
   ]
  },
  {
   "cell_type": "code",
   "execution_count": 94,
   "id": "900578b6",
   "metadata": {
    "ExecuteTime": {
     "end_time": "2022-03-05T20:54:20.122450Z",
     "start_time": "2022-03-05T20:54:19.274395Z"
    },
    "scrolled": false
   },
   "outputs": [
    {
     "data": {
      "text/plain": [
       "LinearRegression()"
      ]
     },
     "execution_count": 94,
     "metadata": {},
     "output_type": "execute_result"
    }
   ],
   "source": [
    "X_train=np.array(X_train).reshape(-1,1)\n",
    "y_train=np.array(y_train).reshape(-1,1)"
   ]
  },
  {
   "cell_type": "markdown",
   "id": "64022cfc",
   "metadata": {},
   "source": [
    "### Fit the Train Data on The model"
   ]
  },
  {
   "cell_type": "code",
   "execution_count": 148,
   "id": "1716fcfa",
   "metadata": {
    "ExecuteTime": {
     "end_time": "2022-03-05T21:35:08.786953Z",
     "start_time": "2022-03-05T21:35:08.767964Z"
    }
   },
   "outputs": [
    {
     "name": "stdout",
     "output_type": "stream",
     "text": [
      "Train is Complete Succesfuly\n"
     ]
    }
   ],
   "source": [
    "try:\n",
    "    Reg.fit(X_train,y_train)\n",
    "    print(\"Train is Complete Succesfuly\")\n",
    "except:\n",
    "    print(\"There a Problem While Training \")"
   ]
  },
  {
   "cell_type": "markdown",
   "id": "8e9fcf5a",
   "metadata": {},
   "source": [
    "### Ploting the result line on our data"
   ]
  },
  {
   "cell_type": "code",
   "execution_count": 115,
   "id": "5a0cae07",
   "metadata": {
    "ExecuteTime": {
     "end_time": "2022-03-05T21:15:19.281996Z",
     "start_time": "2022-03-05T21:15:19.161648Z"
    },
    "scrolled": true
   },
   "outputs": [
    {
     "data": {
      "text/plain": [
       "[<matplotlib.lines.Line2D at 0x2593c261040>]"
      ]
     },
     "execution_count": 115,
     "metadata": {},
     "output_type": "execute_result"
    },
    {
     "data": {
      "image/png": "[encoded data removed]",
      "text/plain": [
       "<Figure size 432x288 with 1 Axes>"
      ]
     },
     "metadata": {
      "needs_background": "light"
     },
     "output_type": "display_data"
    }
   ],
   "source": [
    "figure2=plt.figure()\n",
    "plt.scatter(Hours,Score,marker=\"+\")\n",
    "plt.plot(Hours,predictedResult,c='y')"
   ]
  },
  {
   "cell_type": "markdown",
   "id": "02ec8851",
   "metadata": {},
   "source": [
    "### Perdicted the Result of test data "
   ]
  },
  {
   "cell_type": "code",
   "execution_count": 246,
   "id": "e306396f",
   "metadata": {
    "ExecuteTime": {
     "end_time": "2022-03-05T22:00:11.911855Z",
     "start_time": "2022-03-05T22:00:11.900922Z"
    },
    "scrolled": true
   },
   "outputs": [],
   "source": [
    "yperdict=Reg.predict(np.array(X_test).reshape(-1,1))\n",
    "yperdict=[float(i) for i in yperdict]\n",
    "yperdict=np.array(yperdict)\n",
    "y_test=[int(i) for i in y_test]\n",
    "y_test=np.array(y_test)"
   ]
  },
  {
   "cell_type": "markdown",
   "id": "2b0d8c14",
   "metadata": {},
   "source": [
    "### Compare the data between thee Actual score and Perdicted one "
   ]
  },
  {
   "cell_type": "code",
   "execution_count": 247,
   "id": "4d0c5eec",
   "metadata": {
    "ExecuteTime": {
     "end_time": "2022-03-05T22:00:13.338618Z",
     "start_time": "2022-03-05T22:00:13.314688Z"
    },
    "scrolled": true
   },
   "outputs": [
    {
     "data": {
      "text/html": [
       "<div>\n",
       "<style scoped>\n",
       "    .dataframe tbody tr th:only-of-type {\n",
       "        vertical-align: middle;\n",
       "    }\n",
       "\n",
       "    .dataframe tbody tr th {\n",
       "        vertical-align: top;\n",
       "    }\n",
       "\n",
       "    .dataframe thead th {\n",
       "        text-align: right;\n",
       "    }\n",
       "</style>\n",
       "<table border=\"1\" class=\"dataframe\">\n",
       "  <thead>\n",
       "    <tr style=\"text-align: right;\">\n",
       "      <th></th>\n",
       "      <th>The Perdicted Score</th>\n",
       "      <th>The Actual Score</th>\n",
       "    </tr>\n",
       "  </thead>\n",
       "  <tbody>\n",
       "    <tr>\n",
       "      <th>0</th>\n",
       "      <td>16.884145</td>\n",
       "      <td>20</td>\n",
       "    </tr>\n",
       "    <tr>\n",
       "      <th>1</th>\n",
       "      <td>33.732261</td>\n",
       "      <td>27</td>\n",
       "    </tr>\n",
       "    <tr>\n",
       "      <th>2</th>\n",
       "      <td>75.357018</td>\n",
       "      <td>69</td>\n",
       "    </tr>\n",
       "    <tr>\n",
       "      <th>3</th>\n",
       "      <td>26.794801</td>\n",
       "      <td>30</td>\n",
       "    </tr>\n",
       "    <tr>\n",
       "      <th>4</th>\n",
       "      <td>60.491033</td>\n",
       "      <td>62</td>\n",
       "    </tr>\n",
       "  </tbody>\n",
       "</table>\n",
       "</div>"
      ],
      "text/plain": [
       "   The Perdicted Score  The Actual Score\n",
       "0            16.884145                20\n",
       "1            33.732261                27\n",
       "2            75.357018                69\n",
       "3            26.794801                30\n",
       "4            60.491033                62"
      ]
     },
     "execution_count": 247,
     "metadata": {},
     "output_type": "execute_result"
    }
   ],
   "source": [
    "dataresult=pd.DataFrame({\"The Perdicted Score\": list(yperdict),\"The Actual Score\": list(y_test)})\n",
    "dataresult"
   ]
  },
  {
   "cell_type": "markdown",
   "id": "2c25df93",
   "metadata": {},
   "source": [
    "### Here can get how much score for the student who study 9.25 hrs/day"
   ]
  },
  {
   "cell_type": "code",
   "execution_count": 248,
   "id": "526884dd",
   "metadata": {
    "ExecuteTime": {
     "end_time": "2022-03-05T22:00:20.094011Z",
     "start_time": "2022-03-05T22:00:20.088027Z"
    },
    "scrolled": false
   },
   "outputs": [
    {
     "name": "stdout",
     "output_type": "stream",
     "text": [
      "The Studing Hours is 9.25 and the predicted Score is 93.69173248737535\n"
     ]
    }
   ],
   "source": [
    "perdictedValue=Reg.predict(np.array([9.25]).reshape(-1,1))\n",
    "print(f\"The Studing Hours is {9.25} and the predicted Score is {perdictedValue[0][0]}\")"
   ]
  },
  {
   "cell_type": "markdown",
   "id": "d7184129",
   "metadata": {},
   "source": [
    "## Model evaluation"
   ]
  },
  {
   "cell_type": "markdown",
   "id": "cd7a265a",
   "metadata": {},
   "source": [
    "### Our model accuracy is "
   ]
  },
  {
   "cell_type": "code",
   "execution_count": 268,
   "id": "8c6c978e",
   "metadata": {
    "ExecuteTime": {
     "end_time": "2022-03-05T22:09:58.367659Z",
     "start_time": "2022-03-05T22:09:58.354654Z"
    },
    "scrolled": false
   },
   "outputs": [
    {
     "name": "stdout",
     "output_type": "stream",
     "text": [
      "The Model Accuarcy is = 94.55 %\n"
     ]
    }
   ],
   "source": [
    "X_test=np.array(X_test).reshape(-1,1)\n",
    "y_test=np.array(y_test).reshape(-1,1)\n",
    "print(f\"The Model Accuarcy is = {round(Reg.score(X_test,y_test)*100,2)} %\")"
   ]
  },
  {
   "cell_type": "markdown",
   "id": "7be5cef2",
   "metadata": {},
   "source": [
    "### Mean Absolute Error Of the Model"
   ]
  },
  {
   "cell_type": "code",
   "execution_count": 262,
   "id": "bee021c9",
   "metadata": {
    "ExecuteTime": {
     "end_time": "2022-03-05T22:07:09.251022Z",
     "start_time": "2022-03-05T22:07:09.235066Z"
    }
   },
   "outputs": [
    {
     "data": {
      "text/plain": [
       "4.183859899002975"
      ]
     },
     "execution_count": 262,
     "metadata": {},
     "output_type": "execute_result"
    }
   ],
   "source": [
    "metrics.mean_absolute_error(yperdict,y_test)"
   ]
  }
 ],
 "metadata": {
  "kernelspec": {
   "display_name": "Python 3 (ipykernel)",
   "language": "python",
   "name": "python3"
  },
  "language_info": {
   "codemirror_mode": {
    "name": "ipython",
    "version": 3
   },
   "file_extension": ".py",
   "mimetype": "text/x-python",
   "name": "python",
   "nbconvert_exporter": "python",
   "pygments_lexer": "ipython3",
   "version": "3.9.7"
  }
 },
 "nbformat": 4,
 "nbformat_minor": 5
}
