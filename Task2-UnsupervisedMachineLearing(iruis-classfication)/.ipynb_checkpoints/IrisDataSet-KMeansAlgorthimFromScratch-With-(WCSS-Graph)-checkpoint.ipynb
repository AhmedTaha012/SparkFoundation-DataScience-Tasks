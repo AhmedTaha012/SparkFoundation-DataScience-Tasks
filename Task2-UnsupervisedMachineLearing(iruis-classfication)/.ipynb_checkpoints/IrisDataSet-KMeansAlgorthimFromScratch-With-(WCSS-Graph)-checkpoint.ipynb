{
 "cells": [
  {
   "cell_type": "markdown",
   "id": "c6455a67",
   "metadata": {},
   "source": [
    "## Ahmed Taha \n",
    "## 8/3/2022\n",
    "## Here Is Implementation for KMeans algoramthim from scratch on iris data set \n",
    "## iris data set is data for flowers of differnt kinds and every kind are close to each other in some featuers like (SepalLengthCm,SepalWidthCm,PetalLengthCm ,PetalWidth) \n",
    "## so I do an unsupervised machine learning algorathim (kmeans ) to can classfiy the flowers according to those features\n",
    "## The class Implemented conatins comments to can understand the code "
   ]
  },
  {
   "cell_type": "markdown",
   "id": "a9e42f8a",
   "metadata": {},
   "source": [
    "### Modules "
   ]
  },
  {
   "cell_type": "code",
   "execution_count": 263,
   "id": "2db9e575",
   "metadata": {
    "ExecuteTime": {
     "end_time": "2022-03-08T21:40:35.334871Z",
     "start_time": "2022-03-08T21:40:35.327952Z"
    }
   },
   "outputs": [],
   "source": [
    "import numpy as np\n",
    "import pandas as pd\n",
    "import matplotlib.pyplot as plt"
   ]
  },
  {
   "cell_type": "markdown",
   "id": "86d0f44b",
   "metadata": {},
   "source": [
    "## kmean algorathim  Class"
   ]
  },
  {
   "cell_type": "code",
   "execution_count": 265,
   "id": "0226fe70",
   "metadata": {
    "ExecuteTime": {
     "end_time": "2022-03-08T21:47:48.160206Z",
     "start_time": "2022-03-08T21:47:48.127816Z"
    }
   },
   "outputs": [],
   "source": [
    "class kmean_alg:  \n",
    "  def __init__(self, x):\n",
    "    self.x=x\n",
    "    self.centroide=None\n",
    "    self.idx=None \n",
    "               ############Intial the centroid by any number of clusters############\n",
    "        \n",
    "  def init_centroids(self,number_of_centroides):\n",
    "        m, n = self.x.shape ##get the number of rows and number of featuers in the data\n",
    "        self.centroide = np.zeros((number_of_centroides, n)) ##perfome an array if number of centers=3 and featuers =2 so it [[x11,x12],[x21,x22],[x31,x32]] where every point we choose are put\n",
    "        idx = np.random.randint(0, m, number_of_centroides) ##an array of 3 numbers between 0 to 299 to take them as the centroides\n",
    "        ## in this loop we take idx which we choose up then put them in centroids \n",
    "        for i in range(number_of_centroides):\n",
    "            self.centroide[i,:] = self.x[idx[i],:]\n",
    "        return self.centroide\n",
    "    \n",
    "               ############This Private Method used for fined the distance two every center############\n",
    "        \n",
    "  def __find_closest_centroids(self):\n",
    "        m = self.x.shape[0] ## get the number of rows in the data\n",
    "        k = self.centroide.shape[0] ## get the number of centroids \n",
    "        idx = np.zeros(m) ##makes an array of  numbers of the rows to can set every point to one of centroides 0,1,2\n",
    "        for i in range(m):##will loop through all the rows \n",
    "            min_dist = 1000000##set the min distance to large number \n",
    "            for j in range(k):##loop throught the number of centroides ex:0,1,2\n",
    "                dist = np.sum((self.x[i,:] - self.centroide[j,:]) ** 2) # compare the first row distance with every centroide to get the min distance \n",
    "                if dist < min_dist: ##here we compare if it min than the last one \n",
    "                    min_dist = dist ##change the min disdance if it min\n",
    "                    idx[i] = j## set the row to min centroide 0 or 1 or 2 in our example\n",
    "        return idx\n",
    "    \n",
    "             ############This Private Method used for compute new centroids by get the avg############\n",
    "        \n",
    "  def __compute_centroids(self,number_of_centroides):\n",
    "        m, n = self.x.shape ## get number of rows and featuers \n",
    "        centroids = np.zeros((number_of_centroides, n))## an  array of zeros with same centroids number 3*2 in our example to calculate the average then put here the new centroides \n",
    "        for i in range(number_of_centroides): ##looping to set every centroide\n",
    "            indices = np.where(self.idx == i) ## get the rows indecices where the rows are in the i group \n",
    "            centroids[i,:] = (np.sum(self.x[indices,:], axis=1) / len(indices[0])).ravel()## set the new centroid to average \n",
    "        return centroids \n",
    "    \n",
    "            ############This Method used for fit the module by used above methods############\n",
    "        \n",
    "  def fit(self, max_iters):\n",
    "    m, n = self.x.shape ##get the rows and featuers numbers in data\n",
    "    k = self.centroide.shape[0] ##numbers of centrides\n",
    "    self.idx = np.zeros(m)## set the idx with size of number of rows to all zeros [00000000]299\n",
    "    for i in range(max_iters): ##loops by number which we needed\n",
    "        self.idx = self.__find_closest_centroids() ## compute the rows which close to every centroide\n",
    "        self.centroide = self.__compute_centroids(k) ## get the neww centroides \n",
    "    return self.idx, self.centroide \n",
    "\n",
    "           ############This Method used for return the wcss(within cluster sum of squares)############\n",
    "    \n",
    "  def back_draw_wcss(self,max_iters=5):\n",
    "    m=self.x.shape[0]\n",
    "    k=self.centroide.shape[0]\n",
    "    distance=[]\n",
    "    for i in range(max_iters): ##loops by number which we needed\n",
    "            self.idx = self.__find_closest_centroids() ## compute the rows which close to every centroide\n",
    "            self.centroide = self.__compute_centroids(k) ## get the neww centroides \n",
    "    for i in range(k): ##looping to set every centroide\n",
    "            indices = np.where(self.idx == i) ## get the rows indecices where the rows are in the i group \n",
    "#             print(indices)\n",
    "            d=np.sum((self.x[indices,:]-self.centroide[i,:])**2)\n",
    "#             print(d)\n",
    "            distance.append(d)\n",
    "    return sum(distance)\n",
    "\n",
    "                ############This Method used for predict an value for new x ############\n",
    "  def perdict(self,new_x):\n",
    "    m=self.centroide.shape[0]\n",
    "    new_x=np.array(new_x)\n",
    "    min_dist = 1000000\n",
    "    the_pos=None\n",
    "    for i in range(m):\n",
    "       dist = np.sum((new_x-self.centroide[i,:]) ** 2) # compare the first row distance with every centroide to get the min distance \n",
    "       if dist < min_dist: ##here we compare if it min than the last one \n",
    "            min_dist = dist ##change the min disdance if it min\n",
    "            the_pos=i\n",
    "    return the_pos"
   ]
  },
  {
   "cell_type": "markdown",
   "id": "fc54591b",
   "metadata": {},
   "source": [
    "## read the iris data set "
   ]
  },
  {
   "cell_type": "code",
   "execution_count": 266,
   "id": "39260c5c",
   "metadata": {
    "ExecuteTime": {
     "end_time": "2022-03-08T21:47:55.567590Z",
     "start_time": "2022-03-08T21:47:55.548446Z"
    }
   },
   "outputs": [],
   "source": [
    "data=pd.read_csv(\"Iris.csv\")"
   ]
  },
  {
   "cell_type": "markdown",
   "id": "9263e628",
   "metadata": {},
   "source": [
    "## Read the first 5 rows only"
   ]
  },
  {
   "cell_type": "code",
   "execution_count": 267,
   "id": "605de9a9",
   "metadata": {
    "ExecuteTime": {
     "end_time": "2022-03-08T21:47:57.064855Z",
     "start_time": "2022-03-08T21:47:57.053071Z"
    },
    "scrolled": false
   },
   "outputs": [
    {
     "data": {
      "text/html": [
       "<div>\n",
       "<style scoped>\n",
       "    .dataframe tbody tr th:only-of-type {\n",
       "        vertical-align: middle;\n",
       "    }\n",
       "\n",
       "    .dataframe tbody tr th {\n",
       "        vertical-align: top;\n",
       "    }\n",
       "\n",
       "    .dataframe thead th {\n",
       "        text-align: right;\n",
       "    }\n",
       "</style>\n",
       "<table border=\"1\" class=\"dataframe\">\n",
       "  <thead>\n",
       "    <tr style=\"text-align: right;\">\n",
       "      <th></th>\n",
       "      <th>Id</th>\n",
       "      <th>SepalLengthCm</th>\n",
       "      <th>SepalWidthCm</th>\n",
       "      <th>PetalLengthCm</th>\n",
       "      <th>PetalWidthCm</th>\n",
       "      <th>Species</th>\n",
       "    </tr>\n",
       "  </thead>\n",
       "  <tbody>\n",
       "    <tr>\n",
       "      <th>0</th>\n",
       "      <td>1</td>\n",
       "      <td>5.1</td>\n",
       "      <td>3.5</td>\n",
       "      <td>1.4</td>\n",
       "      <td>0.2</td>\n",
       "      <td>Iris-setosa</td>\n",
       "    </tr>\n",
       "    <tr>\n",
       "      <th>1</th>\n",
       "      <td>2</td>\n",
       "      <td>4.9</td>\n",
       "      <td>3.0</td>\n",
       "      <td>1.4</td>\n",
       "      <td>0.2</td>\n",
       "      <td>Iris-setosa</td>\n",
       "    </tr>\n",
       "    <tr>\n",
       "      <th>2</th>\n",
       "      <td>3</td>\n",
       "      <td>4.7</td>\n",
       "      <td>3.2</td>\n",
       "      <td>1.3</td>\n",
       "      <td>0.2</td>\n",
       "      <td>Iris-setosa</td>\n",
       "    </tr>\n",
       "    <tr>\n",
       "      <th>3</th>\n",
       "      <td>4</td>\n",
       "      <td>4.6</td>\n",
       "      <td>3.1</td>\n",
       "      <td>1.5</td>\n",
       "      <td>0.2</td>\n",
       "      <td>Iris-setosa</td>\n",
       "    </tr>\n",
       "    <tr>\n",
       "      <th>4</th>\n",
       "      <td>5</td>\n",
       "      <td>5.0</td>\n",
       "      <td>3.6</td>\n",
       "      <td>1.4</td>\n",
       "      <td>0.2</td>\n",
       "      <td>Iris-setosa</td>\n",
       "    </tr>\n",
       "  </tbody>\n",
       "</table>\n",
       "</div>"
      ],
      "text/plain": [
       "   Id  SepalLengthCm  SepalWidthCm  PetalLengthCm  PetalWidthCm      Species\n",
       "0   1            5.1           3.5            1.4           0.2  Iris-setosa\n",
       "1   2            4.9           3.0            1.4           0.2  Iris-setosa\n",
       "2   3            4.7           3.2            1.3           0.2  Iris-setosa\n",
       "3   4            4.6           3.1            1.5           0.2  Iris-setosa\n",
       "4   5            5.0           3.6            1.4           0.2  Iris-setosa"
      ]
     },
     "execution_count": 267,
     "metadata": {},
     "output_type": "execute_result"
    }
   ],
   "source": [
    "data.head()"
   ]
  },
  {
   "cell_type": "markdown",
   "id": "75e3b3d1",
   "metadata": {},
   "source": [
    "## Get the features from the data for the flowers only and drop the ids "
   ]
  },
  {
   "cell_type": "code",
   "execution_count": 268,
   "id": "d454b027",
   "metadata": {
    "ExecuteTime": {
     "end_time": "2022-03-08T21:47:58.930111Z",
     "start_time": "2022-03-08T21:47:58.916892Z"
    },
    "scrolled": true
   },
   "outputs": [
    {
     "data": {
      "text/html": [
       "<div>\n",
       "<style scoped>\n",
       "    .dataframe tbody tr th:only-of-type {\n",
       "        vertical-align: middle;\n",
       "    }\n",
       "\n",
       "    .dataframe tbody tr th {\n",
       "        vertical-align: top;\n",
       "    }\n",
       "\n",
       "    .dataframe thead th {\n",
       "        text-align: right;\n",
       "    }\n",
       "</style>\n",
       "<table border=\"1\" class=\"dataframe\">\n",
       "  <thead>\n",
       "    <tr style=\"text-align: right;\">\n",
       "      <th></th>\n",
       "      <th>SepalLengthCm</th>\n",
       "      <th>SepalWidthCm</th>\n",
       "      <th>PetalLengthCm</th>\n",
       "      <th>PetalWidthCm</th>\n",
       "    </tr>\n",
       "  </thead>\n",
       "  <tbody>\n",
       "    <tr>\n",
       "      <th>0</th>\n",
       "      <td>5.1</td>\n",
       "      <td>3.5</td>\n",
       "      <td>1.4</td>\n",
       "      <td>0.2</td>\n",
       "    </tr>\n",
       "    <tr>\n",
       "      <th>1</th>\n",
       "      <td>4.9</td>\n",
       "      <td>3.0</td>\n",
       "      <td>1.4</td>\n",
       "      <td>0.2</td>\n",
       "    </tr>\n",
       "    <tr>\n",
       "      <th>2</th>\n",
       "      <td>4.7</td>\n",
       "      <td>3.2</td>\n",
       "      <td>1.3</td>\n",
       "      <td>0.2</td>\n",
       "    </tr>\n",
       "    <tr>\n",
       "      <th>3</th>\n",
       "      <td>4.6</td>\n",
       "      <td>3.1</td>\n",
       "      <td>1.5</td>\n",
       "      <td>0.2</td>\n",
       "    </tr>\n",
       "    <tr>\n",
       "      <th>4</th>\n",
       "      <td>5.0</td>\n",
       "      <td>3.6</td>\n",
       "      <td>1.4</td>\n",
       "      <td>0.2</td>\n",
       "    </tr>\n",
       "  </tbody>\n",
       "</table>\n",
       "</div>"
      ],
      "text/plain": [
       "   SepalLengthCm  SepalWidthCm  PetalLengthCm  PetalWidthCm\n",
       "0            5.1           3.5            1.4           0.2\n",
       "1            4.9           3.0            1.4           0.2\n",
       "2            4.7           3.2            1.3           0.2\n",
       "3            4.6           3.1            1.5           0.2\n",
       "4            5.0           3.6            1.4           0.2"
      ]
     },
     "execution_count": 268,
     "metadata": {},
     "output_type": "execute_result"
    }
   ],
   "source": [
    "x=data.iloc[:,1:-1]\n",
    "x.head()"
   ]
  },
  {
   "cell_type": "markdown",
   "id": "6648ce36",
   "metadata": {},
   "source": [
    "## Now will draw the WCSS(k vs within cluster sum of squares)"
   ]
  },
  {
   "cell_type": "code",
   "execution_count": 272,
   "id": "30809a5f",
   "metadata": {
    "ExecuteTime": {
     "end_time": "2022-03-08T22:08:52.865782Z",
     "start_time": "2022-03-08T22:08:52.124249Z"
    },
    "scrolled": true
   },
   "outputs": [
    {
     "name": "stdout",
     "output_type": "stream",
     "text": [
      "680.8244\n",
      "152.36870647733903\n",
      "84.06398974358974\n",
      "71.3362224245357\n",
      "54.18913066729836\n",
      "46.55664021187458\n",
      "43.36492234848485\n",
      "32.922918564527265\n",
      "28.602301247771834\n"
     ]
    },
    {
     "data": {
      "text/plain": [
       "[<matplotlib.lines.Line2D at 0x7f1e1eb7a3a0>]"
      ]
     },
     "execution_count": 272,
     "metadata": {},
     "output_type": "execute_result"
    },
    {
     "data": {
      "image/png": "[encoded data removed]",
      "text/plain": [
       "<Figure size 432x288 with 1 Axes>"
      ]
     },
     "metadata": {
      "needs_background": "light"
     },
     "output_type": "display_data"
    }
   ],
   "source": [
    "x=np.array(x)\n",
    "kmean_module=kmean_alg(x)\n",
    "y=[]\n",
    "x_numberline=[]\n",
    "for i in range(1,10):\n",
    "    kmean_module.init_centroids(i)\n",
    "    print(kmean_module.back_draw_wcss())\n",
    "    y.append(int(kmean_module.back_draw_wcss()))\n",
    "    x_numberline.append(i)\n",
    "plt.plot(x_numberline,y)"
   ]
  },
  {
   "cell_type": "markdown",
   "id": "c8849d1e",
   "metadata": {},
   "source": [
    "## So we can shows from figure that the best number for k is 3"
   ]
  },
  {
   "cell_type": "markdown",
   "id": "a096a0e9",
   "metadata": {},
   "source": [
    "## Starts our algorathim by k of 3"
   ]
  },
  {
   "cell_type": "code",
   "execution_count": 260,
   "id": "e5c31ee2",
   "metadata": {
    "ExecuteTime": {
     "end_time": "2022-03-08T21:39:10.688642Z",
     "start_time": "2022-03-08T21:39:10.681596Z"
    },
    "scrolled": true
   },
   "outputs": [
    {
     "data": {
      "text/plain": [
       "array([[5.2, 4.1, 1.5, 0.1],\n",
       "       [7.7, 2.8, 6.7, 2. ],\n",
       "       [6. , 3.4, 4.5, 1.6]])"
      ]
     },
     "execution_count": 260,
     "metadata": {},
     "output_type": "execute_result"
    }
   ],
   "source": [
    "kmean_module.init_centroids(3)"
   ]
  },
  {
   "cell_type": "markdown",
   "id": "704746ab",
   "metadata": {},
   "source": [
    "## Now will do fiting by 5 epochs and shows the first two features Speall Length Vs Speall Width "
   ]
  },
  {
   "cell_type": "code",
   "execution_count": 262,
   "id": "bcd19fd0",
   "metadata": {
    "ExecuteTime": {
     "end_time": "2022-03-08T21:39:48.151534Z",
     "start_time": "2022-03-08T21:39:47.275840Z"
    }
   },
   "outputs": [
    {
     "data": {
      "image/png": "[encoded data removed]",
      "text/plain": [
       "<Figure size 648x432 with 1 Axes>"
      ]
     },
     "metadata": {
      "needs_background": "light"
     },
     "output_type": "display_data"
    },
    {
     "data": {
      "image/png": "[encoded data removed]",
      "text/plain": [
       "<Figure size 648x432 with 1 Axes>"
      ]
     },
     "metadata": {
      "needs_background": "light"
     },
     "output_type": "display_data"
    },
    {
     "data": {
      "image/png": "[encoded data removed]",
      "text/plain": [
       "<Figure size 648x432 with 1 Axes>"
      ]
     },
     "metadata": {
      "needs_background": "light"
     },
     "output_type": "display_data"
    },
    {
     "data": {
      "image/png": "[encoded data removed]",
      "text/plain": [
       "<Figure size 648x432 with 1 Axes>"
      ]
     },
     "metadata": {
      "needs_background": "light"
     },
     "output_type": "display_data"
    },
    {
     "data": {
      "image/png": "[encoded data removed]",
      "text/plain": [
       "<Figure size 648x432 with 1 Axes>"
      ]
     },
     "metadata": {
      "needs_background": "light"
     },
     "output_type": "display_data"
    }
   ],
   "source": [
    "for i in range(5): ##here you can change the numbers of epochs\n",
    "   idx, centroids = kmean_module.fit(i)\n",
    "   # draw it\n",
    "   cluster1 = x[np.where(idx == 0)[0],:]\n",
    "   cluster2 = x[np.where(idx == 1)[0],:]\n",
    "   cluster3 = x[np.where(idx == 2)[0],:]\n",
    "   \n",
    "   fig, ax = plt.subplots(figsize=(9,6))\n",
    "   ax.scatter(cluster1[:,0], cluster1[:,1], s=30, color='r', label=\"Cluster1\")\n",
    "   ax.scatter(centroids[0,0],centroids[0,1],s=300, color='r')\n",
    "   \n",
    "   ax.scatter(cluster2[:,0], cluster2[:,1], s=30, color='g', label=\"Cluster2\")\n",
    "   ax.scatter(centroids[1,0],centroids[1,1],s=300, color='g')\n",
    " \n",
    "   ax.scatter(cluster3[:,0], cluster3[:,1], s=30, color='b', label=\"Cluster3\")\n",
    "   ax.scatter(centroids[2,0],centroids[2,1],s=300, color='b')\n",
    "   ax.legend()"
   ]
  },
  {
   "cell_type": "code",
   "execution_count": null,
   "id": "6b2cee19",
   "metadata": {},
   "outputs": [],
   "source": []
  }
 ],
 "metadata": {
  "kernelspec": {
   "display_name": "Python 3 (ipykernel)",
   "language": "python",
   "name": "python3"
  },
  "language_info": {
   "codemirror_mode": {
    "name": "ipython",
    "version": 3
   },
   "file_extension": ".py",
   "mimetype": "text/x-python",
   "name": "python",
   "nbconvert_exporter": "python",
   "pygments_lexer": "ipython3",
   "version": "3.9.7"
  }
 },
 "nbformat": 4,
 "nbformat_minor": 5
}
